{
 "cells": [
  {
   "cell_type": "code",
   "execution_count": 1,
   "metadata": {},
   "outputs": [],
   "source": [
    "import numpy as np\n",
    "import pandas as pd"
   ]
  },
  {
   "cell_type": "markdown",
   "metadata": {},
   "source": [
    "Training Set (2022)"
   ]
  },
  {
   "cell_type": "code",
   "execution_count": 7,
   "metadata": {},
   "outputs": [],
   "source": [
    "final2022 = pd.read_excel(\"final 2022.xlsx\")\n",
    "\n",
    "seed = (final2022[\"Seed Diff\"] - np.mean(final2022[\"Seed Diff\"]))/(np.std(final2022[\"Seed Diff\"]))\n",
    "sos = (final2022[\"SOS Diff\"]-np.mean(final2022[\"SOS Diff\"]))/(np.std(final2022[\"SOS Diff\"]))\n",
    "wd = (final2022[\"Overall W Diff\"]-np.mean(final2022[\"Overall W Diff\"]))/(np.std(final2022[\"Overall W Diff\"]))\n",
    "wl = (final2022[\"W-L% Diff\"] - np.mean(final2022[\"W-L% Diff\"]))/(np.std(final2022[\"W-L% Diff\"]))\n",
    "\n",
    "y = 1.28 * seed + 2.37 * sos + 3.83 * wd - 1.77 * wl\n",
    "z = np.exp(y)/(1+np.exp(y))\n",
    "\n",
    "ll = -1/67*sum(final2022[\"0 or 1\"] * np.log(z) + (1-final2022[\"0 or 1\"]) * np.log(1-z))"
   ]
  },
  {
   "cell_type": "code",
   "execution_count": 8,
   "metadata": {},
   "outputs": [
    {
     "data": {
      "text/plain": [
       "0.3761423419634506"
      ]
     },
     "execution_count": 8,
     "metadata": {},
     "output_type": "execute_result"
    }
   ],
   "source": [
    "# Log Loss:\n",
    "ll"
   ]
  },
  {
   "cell_type": "markdown",
   "metadata": {},
   "source": [
    "Testing Set (2019)"
   ]
  },
  {
   "cell_type": "code",
   "execution_count": 9,
   "metadata": {},
   "outputs": [],
   "source": [
    "final2019 = pd.read_excel(\"final 2019.xlsx\")\n",
    "\n",
    "seed = (final2019[\"Seed Dif\"] - np.mean(final2019[\"Seed Dif\"]))/(np.std(final2019[\"Seed Dif\"]))\n",
    "sos = (final2019[\"SOS Diff\"]-np.mean(final2019[\"SOS Diff\"]))/(np.std(final2019[\"SOS Diff\"]))\n",
    "wd = (final2019[\"Overall W Diff\"]-np.mean(final2019[\"Overall W Diff\"]))/(np.std(final2019[\"Overall W Diff\"]))\n",
    "wl = (final2019[\"W-L% Diff\"] - np.mean(final2019[\"W-L% Diff\"]))/(np.std(final2019[\"W-L% Diff\"]))\n",
    "\n",
    "y = 1.28 * seed + 2.37 * sos + 3.83 * wd - 1.77 * wl\n",
    "z = np.exp(y)/(1+np.exp(y))\n",
    "\n",
    "ll = -1/67*sum(final2019[\"0 or 1\"] * np.log(z) + (1-final2019[\"0 or 1\"]) * np.log(1-z))"
   ]
  },
  {
   "cell_type": "code",
   "execution_count": 10,
   "metadata": {},
   "outputs": [
    {
     "data": {
      "text/plain": [
       "0.3591327051043408"
      ]
     },
     "execution_count": 10,
     "metadata": {},
     "output_type": "execute_result"
    }
   ],
   "source": [
    "# Log-Loss:\n",
    "ll"
   ]
  },
  {
   "cell_type": "markdown",
   "metadata": {},
   "source": [
    "Testing Set (2023)"
   ]
  },
  {
   "cell_type": "code",
   "execution_count": 11,
   "metadata": {},
   "outputs": [],
   "source": [
    "final2023 = pd.read_excel(\"final 2023.xlsx\")\n",
    "\n",
    "seed = (final2023[\"Seed Diff\"] - np.mean(final2023[\"Seed Diff\"]))/(np.std(final2023[\"Seed Diff\"]))\n",
    "sos = (final2023[\"SOS Diff\"]-np.mean(final2023[\"SOS Diff\"]))/(np.std(final2023[\"SOS Diff\"]))\n",
    "wd = (final2023[\"Overall W Diff\"]-np.mean(final2023[\"Overall W Diff\"]))/(np.std(final2023[\"Overall W Diff\"]))\n",
    "wl = (final2023[\"W-L% Diff\"] - np.mean(final2023[\"W-L% Diff\"]))/(np.std(final2023[\"W-L% Diff\"]))\n",
    "\n",
    "y = 1.28 * seed + 2.37 * sos + 3.83 * wd - 1.77 * wl\n",
    "z = np.exp(y)/(1+np.exp(y))\n",
    "\n",
    "ll = -1/67*sum(final2023[\"0 or 1\"] * np.log(z) + (1-final2023[\"0 or 1\"]) * np.log(1-z))"
   ]
  },
  {
   "cell_type": "code",
   "execution_count": 12,
   "metadata": {},
   "outputs": [
    {
     "data": {
      "text/plain": [
       "0.47874295650972665"
      ]
     },
     "execution_count": 12,
     "metadata": {},
     "output_type": "execute_result"
    }
   ],
   "source": [
    "# Log-Loss\n",
    "ll"
   ]
  }
 ],
 "metadata": {
  "kernelspec": {
   "display_name": "base",
   "language": "python",
   "name": "python3"
  },
  "language_info": {
   "codemirror_mode": {
    "name": "ipython",
    "version": 3
   },
   "file_extension": ".py",
   "mimetype": "text/x-python",
   "name": "python",
   "nbconvert_exporter": "python",
   "pygments_lexer": "ipython3",
   "version": "3.11.4"
  }
 },
 "nbformat": 4,
 "nbformat_minor": 2
}
